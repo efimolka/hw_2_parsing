{
 "cells": [
  {
   "cell_type": "markdown",
   "metadata": {},
   "source": [
    "# Домашнее задание по курсу анализа данных # 2\n",
    "Версия от 14.11.2021\n",
    "\n",
    "Всего 50 баллов = 50 основных + 10 дополнительных\n",
    "\n",
    "**Оценка**  = (Количество баллов за работу*2 + 20)/10\n",
    "\n",
    "**Мягкий дедлайн: 06.12.2021  23:59**\n",
    "\n",
    "**Жесткий дедлайн: 11.12.2021  23:59**\n",
    "\n",
    "Присылать решение ссылкой на ваш **github** в телеграмм **@Aleron75** или на почту **milenkin.aa@phystech.edu**\n",
    "\n",
    "**Автор:** Миленькин Александр"
   ]
  },
  {
   "cell_type": "markdown",
   "metadata": {},
   "source": [
    "# Парсим рейтинг преподавателей с Вики-Физтех"
   ]
  },
  {
   "cell_type": "markdown",
   "metadata": {},
   "source": [
    "<div class=\"alert alert-info\">\n",
    "    \n",
    "Итак, перед вами **VIKI-MIPT** - сборник отзывов о кафедрах и преподавателях МФТИ: ` http://wikimipt.org/wiki/ `\n",
    "\n",
    "Эта кладезь отзывов не раз давала студентам оценить психологический портрет потенциальных экзаменаторов и преподавателей. \n"
   ]
  },
  {
   "cell_type": "markdown",
   "metadata": {},
   "source": [
    "# Описание задачи: "
   ]
  },
  {
   "cell_type": "markdown",
   "metadata": {},
   "source": [
    "**Задача** - собрать данные по всем текущим преподавателям всех `институтских кафедр` МФТИ.\n",
    "\n",
    "Собранный датасет должен представлять из себя `.csv` файл со следующими полями:\n",
    "\n",
    "* `full_name` - ФИО преподавателя\n",
    "* `birth_day` - Дата рождения преподавателя\n",
    "*  `teach_place` - Кафедра\n",
    "*  `degree`- Ученая Степень\n",
    "* `knowledge` - Знания\n",
    "*  `teaching_skill` - Умение преподавать\t\n",
    "* `commication_skill` - В общении\t\n",
    "* `easy_exam` - «Халявность»\t\n",
    "* `overall_score` - Общая оценка"
   ]
  },
  {
   "cell_type": "markdown",
   "metadata": {},
   "source": [
    "\n",
    "**Комментарий:** - Знание, умение преподавать, в общение, \"Халявность\" и Общая оценка можно найти странице каждого преподавателя. "
   ]
  },
  {
   "cell_type": "markdown",
   "metadata": {},
   "source": [
    "<div class=\"alert alert-warning\">\n",
    "    \n",
    "Финальный балл складывается из трех частей:\n",
    "\n",
    "* Cобранный датасет (выложить архивом на гитхаб)\n",
    "* python кода, которым был собран датасет (выложить на гитхаб)\n",
    "* Окуратный и понятный код с комментариями\n",
    "    \n",
    "    \n",
    "**Дополнительные + 10 баллов можно получить за кластеризацию преподавателей, используя только оценки из собранных данных**"
   ]
  },
  {
   "cell_type": "markdown",
   "metadata": {},
   "source": [
    "# Возможный алгоритм обхода для сбора данных:"
   ]
  },
  {
   "cell_type": "code",
   "execution_count": null,
   "metadata": {},
   "outputs": [],
   "source": [
    "# 0 - Открываем с помощью Selenium клавную страницу вики-Физтех- http://wikimipt.org/wiki/   \n",
    "# 1 - Получаем список кафедр с главной страницу вики-Физтех    \n",
    "# Обходя список кафедр, \"проваливаемся\" в каждую страницу кафедру кликом по названию кафедры\n",
    "#     2 - Получаем список преподавателей\n",
    "#         Обходя список преподавателей \"Проваливаемся\" на страницу преподавателя по ФИО преподавателя\n",
    "#             3 - Получаем табличку данных с характеристмиками преподавателями и прочу необходимую информацию. \n",
    "#             Записываем в pandas dataframe\n",
    "# Сохраняем данные в .csv файл"
   ]
  },
  {
   "cell_type": "markdown",
   "metadata": {},
   "source": [
    "# Вспомогательные элементы для майнинга данных"
   ]
  },
  {
   "cell_type": "markdown",
   "metadata": {},
   "source": [
    "* Библиотека `Selenium`: https://selenium-python.readthedocs.io/\n",
    "\n",
    "Полезные методы и рекомендации:\n",
    "    \n",
    "* `element = browser.find_elements_by_*что угодно*()` # Поиск элемента на странице\n",
    "* `element.click()` # Кликнуть по элементу (провалится по ссылке / расскрыть банер)\n",
    "* `browser.back()` # Вернуться назад \n",
    "* `pd.read_html()` # Способ загрузить таблицку из html сразу в Pandas\n",
    "* Спрашивать в чате или гуглить"
   ]
  },
  {
   "cell_type": "code",
   "execution_count": 212,
   "metadata": {},
   "outputs": [],
   "source": [
    "import pandas as pd\n",
    "import numpy as np\n",
    "\n",
    "from selenium import webdriver\n",
    "from selenium.webdriver.chrome.options import Options  \n",
    "from selenium.webdriver.common.by import By\n",
    "\n"
   ]
  },
  {
   "cell_type": "code",
   "execution_count": null,
   "metadata": {},
   "outputs": [],
   "source": [
    "chrome_options = Options() \n",
    "chrome_options.add_argument(\"--headless\")\n",
    "road_driver = (r'C:\\Users\\Strong Password\\Documents\\FILO\\МФТИ\\АД\\my_homework\\chromedriver.exe')\n",
    "\n",
    "driver = webdriver.Chrome(road_driver, options=chrome_options)\n",
    "driver.get(\"http://wikimipt.org/wiki/\");"
   ]
  },
  {
   "cell_type": "code",
   "execution_count": null,
   "metadata": {},
   "outputs": [],
   "source": [
    "# Отдельно для проверки найдет атрибуты для каждой кафедры\n",
    "\n",
    "xpath_list_faculty = '//*[@id=\"mw-content-text\"]/div[3]/ul/li/a' # XPATH элемента одной кафедры\n",
    "faculty = driver.find_elements(By.XPATH, xpath_list_faculty)  # Найдем все элементы каждой кафедры\n",
    "print(\"Количество кафедр: \", len(faculty))\n",
    "\n",
    "url_faculty_list = [el.get_attribute('href') for el in faculty] # Выбираем атрибут URL каждой кафедры\n",
    "print(\"\\nURL кафедр: \\n\", url_faculty_list)\n",
    "faculty_name_list = [el.get_attribute(\"title\") for el in faculty]  # Выбираем атрибут title каждой кафедры\n",
    "print(\"\\nНазвания кафедр: \\n\", faculty_name_list)\n",
    "\n"
   ]
  },
  {
   "cell_type": "markdown",
   "metadata": {},
   "source": [
    "**Ура, всё работает! Тогда идём дальше**"
   ]
  },
  {
   "cell_type": "code",
   "execution_count": 220,
   "metadata": {},
   "outputs": [],
   "source": [
    "# Функция парсинга начала таблицы\n",
    "def start_table_professor(url):\n",
    "    table = pd.read_html(url)[0] # Читаем таблицу\n",
    "    driver.implicitly_wait(1)\n",
    "    notnan_rows = table[0].notnull() # Маска ненулевых значений \n",
    "    table = table.loc[notnan_rows, :].values # Выбираем ненулевые значения и делаем в пр\n",
    "    mask = np.isin(table[:, 0], [ 'Дата рождения', 'Альма-матер', 'Учёная степень'])\n",
    "    info = {\n",
    "            'date_of_birth': np.nan,\n",
    "            'teach_place':   np.nan,\n",
    "            'degree':        np.nan\n",
    "            }\n",
    "    \n",
    "    alias = {\n",
    "        'Дата рождения': 'date_of_birth',\n",
    "        'Альма-матер': 'teach_place',\n",
    "        'Учёная степень': 'degree'\n",
    "    }\n",
    "\n",
    "    for column, value in table[mask, :]:\n",
    "        if value.endswith(')'): # Нам не нужно сохранять год, в котором окончил вуз преподаватель\n",
    "            value = value[:-7]\n",
    "        label = alias[column]\n",
    "        info[label] = value\n",
    "        \n",
    "    return info"
   ]
  },
  {
   "cell_type": "code",
   "execution_count": 177,
   "metadata": {},
   "outputs": [],
   "source": [
    "# Функция таблицы рейтинга\n",
    "def rating(driver):\n",
    "    # Рейтинги всех преподавателей имеют имя класса starrating-avg и идут на странице подряд\n",
    "    rating = []\n",
    "    html_rating = driver.find_elements(By.CLASS_NAME, 'starrating-avg')\n",
    "    driver.implicitly_wait(2)\n",
    "    for el in html_rating:\n",
    "        tmp = el.text.strip().split(' ')[0]\n",
    "        if (tmp and '(' not in tmp):\n",
    "            number = float(tmp)\n",
    "        else:\n",
    "            number = np.nan # заполняем пропуски NaN\n",
    "    \n",
    "        rating.append(number)\n",
    "    rating_by_columns = {\n",
    "            'knowledge': rating[0],\n",
    "            'teaching_skill': rating[1],\n",
    "            'commication_skill': rating[2],\n",
    "            'easy_exam': rating[3],\n",
    "            'overall_score': rating[4]}\n",
    "    return rating_by_columns"
   ]
  },
  {
   "cell_type": "code",
   "execution_count": null,
   "metadata": {},
   "outputs": [],
   "source": [
    "data_for_df = [] # Массив строк для датасета\n",
    "start = 13\n",
    "for url_f, name_f in zip(url_faculty_list[start:], faculty_name_list[start:]):\n",
    "    driver.get(url_f)\n",
    "    print(name_f)\n",
    "    driver.implicitly_wait(2)\n",
    "    if url_f == (url_faculty_list[0] or url_faculty_list[1]):\n",
    "        xpath_list_professor = '//*[@id=\"mw-content-text\"]/div[3]/ul/li/a' # XPATH элемента одного преподавателя\n",
    "        professor = driver.find_elements(By.XPATH, xpath_list_professor)\n",
    "    elif url_f == (url_faculty_list[12]):\n",
    "        continue\n",
    "    else:\n",
    "        prof = driver.find_element(By.CLASS_NAME, \"srf-gallery\")\n",
    "        professor = prof.find_elements(By.XPATH, 'ul/li/div/div[2]/p/a')\n",
    " \n",
    "    url_prof_list = [el.get_attribute('href') for el in professor] # Выбираем атрибут URL каждой кафедры\n",
    "    prof_name_list = [el.get_attribute(\"title\") for el in professor] \n",
    "    for url_p, name_p in zip(url_prof_list, prof_name_list):\n",
    "        driver.get(url_p)\n",
    "        driver.implicitly_wait(2)\n",
    "        info_first = start_table_professor(url_p)\n",
    "        info_rating = rating(driver)\n",
    "        data_string = {\n",
    "                        'full_name': name_p,\n",
    "                        'department': name_f,\n",
    "                    }\n",
    "        data_string.update(info_first)\n",
    "        data_string.update(info_rating)\n",
    "        #print(data_string)\n",
    "        data_for_df.append(data_string)"
   ]
  },
  {
   "cell_type": "code",
   "execution_count": null,
   "metadata": {},
   "outputs": [],
   "source": [
    "df = pd.DataFrame(data_for_df)\n",
    "print(df.shape)\n",
    "df.to_csv('../Data_hw_2.csv')"
   ]
  }
 ],
 "metadata": {
  "kernelspec": {
   "display_name": "Python 3",
   "language": "python",
   "name": "python3"
  },
  "language_info": {
   "codemirror_mode": {
    "name": "ipython",
    "version": 3
   },
   "file_extension": ".py",
   "mimetype": "text/x-python",
   "name": "python",
   "nbconvert_exporter": "python",
   "pygments_lexer": "ipython3",
   "version": "3.9.7"
  },
  "toc": {
   "base_numbering": 1,
   "nav_menu": {},
   "number_sections": true,
   "sideBar": true,
   "skip_h1_title": false,
   "title_cell": "Table of Contents",
   "title_sidebar": "Contents",
   "toc_cell": false,
   "toc_position": {},
   "toc_section_display": true,
   "toc_window_display": false
  }
 },
 "nbformat": 4,
 "nbformat_minor": 4
}
